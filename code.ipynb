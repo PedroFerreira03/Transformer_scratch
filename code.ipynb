{
 "cells": [
  {
   "cell_type": "markdown",
   "id": "8ae530d5",
   "metadata": {},
   "source": [
    "# Getting started"
   ]
  },
  {
   "cell_type": "code",
   "execution_count": 56,
   "id": "6d210ac0",
   "metadata": {},
   "outputs": [],
   "source": [
    "import torch\n",
    "import torch.nn as nn\n",
    "from torch.utils.data import Dataset, DataLoader"
   ]
  },
  {
   "cell_type": "code",
   "execution_count": 53,
   "id": "ee9d373b",
   "metadata": {},
   "outputs": [
    {
     "name": "stdout",
     "output_type": "stream",
     "text": [
      "Using cpu!\n"
     ]
    }
   ],
   "source": [
    "device = \"cuda\" if torch.cuda.is_available() else \"cpu\"\n",
    "print(f\"Using {device}!\")"
   ]
  },
  {
   "cell_type": "markdown",
   "id": "39e188c2",
   "metadata": {},
   "source": [
    "# Prepare data"
   ]
  },
  {
   "cell_type": "code",
   "execution_count": 54,
   "id": "08a71b5e",
   "metadata": {},
   "outputs": [],
   "source": [
    "path_to_data = \"data/moby_dick.txt\"\n",
    "all_data = []\n",
    "with open(path_to_data, 'r', encoding=\"utf-8\") as f:\n",
    "    for line in f:\n",
    "        all_data.append(line.strip())\n",
    "\n",
    "text = ''.join(all_data)\n",
    "sentences = text.split('.')[2:] # Remove the chapter"
   ]
  },
  {
   "cell_type": "code",
   "execution_count": 55,
   "id": "f4a79ce6",
   "metadata": {},
   "outputs": [
    {
     "name": "stdout",
     "output_type": "stream",
     "text": [
      "361\n",
      "1\n"
     ]
    }
   ],
   "source": [
    "sentence_word = [sentence.split() for sentence in sentences]\n",
    "sentence_word.sort(key=lambda x: len(x))\n",
    "sentence_word = sentence_word[1:] # Remove empty sentence\n",
    "\n",
    "# Get maximum length of sentence\n",
    "print(max(len(sentence) for sentence in sentence_word))\n",
    "\n",
    "# Get smallest length of sentence\n",
    "print(min(len(sentence) for sentence in sentence_word))"
   ]
  },
  {
   "cell_type": "code",
   "execution_count": 57,
   "id": "73e0dca9",
   "metadata": {},
   "outputs": [],
   "source": [
    "word2idx = {'<PAD>': 0, '<SOS>': 1, '<EOS>': 2, '<UNK>': 3}\n",
    "curr = 4\n",
    "for sentence in sentence_word:\n",
    "    for word in sentence:\n",
    "        if word not in word2idx:\n",
    "            word2idx[word] = curr\n",
    "            curr += 1\n",
    "\n",
    "idx2word = [''] * len(word2idx)\n",
    "for token, idx in word2idx.items():\n",
    "    idx2word[idx] = token\n",
    "\n",
    "def process_sentence(sentence):\n",
    "    output = [word2idx['<SOS>']]\n",
    "    for word in sentence:\n",
    "        if word not in word2idx:\n",
    "            word = '<UNK>'\n",
    "        output.append(word2idx[word])\n",
    "\n",
    "    output.append(word2idx['<EOS>'])\n",
    "    return output\n",
    "\n",
    "def add_padding(X, batch_size=32):\n",
    "    num_sentences = len(X)\n",
    "    pad_idx = word2idx['<PAD>'] \n",
    "    for i in range(0, num_sentences, batch_size):\n",
    "        idx = min(num_sentences-1, i + batch_size)\n",
    "        max_length = len(proc_sentence[idx])\n",
    "        for j in range(i, idx):\n",
    "            missing = max_length - len(proc_sentence[j])\n",
    "            proc_sentence[j].extend([pad_idx]*(missing))\n",
    "    \n",
    "    return X\n",
    "\n",
    "class LMDataset(Dataset):\n",
    "    def __init__(self, X):\n",
    "        self.X = X\n",
    "    \n",
    "    def __len__(self):\n",
    "        return len(self.X)\n",
    "\n",
    "    def __getitem__(self, idx):\n",
    "        return torch.tensor(self.X[idx])\n",
    "\n",
    "batch_size = 32\n",
    "proc_sentence = [process_sentence(sentence) for sentence in sentence_word]\n",
    "padded_sentences = add_padding(proc_sentence, batch_size)\n",
    "dataset = LMDataset(padded_sentences)\n",
    "dataloader = DataLoader(dataset, shuffle=False, batch_size=batch_size)"
   ]
  },
  {
   "cell_type": "code",
   "execution_count": 61,
   "id": "61438816",
   "metadata": {},
   "outputs": [
    {
     "name": "stdout",
     "output_type": "stream",
     "text": [
      "torch.Size([32, 3])\n"
     ]
    }
   ],
   "source": [
    "for X in dataloader:\n",
    "    print(X.shape)\n",
    "    break"
   ]
  },
  {
   "cell_type": "markdown",
   "id": "56b8b2fd",
   "metadata": {},
   "source": [
    "# Architecture"
   ]
  },
  {
   "cell_type": "code",
   "execution_count": 126,
   "id": "39ae39a8",
   "metadata": {},
   "outputs": [],
   "source": [
    "class MultiAttentionHead(nn.Module):\n",
    "    def __init__(self, num_heads, hidden_size):\n",
    "        super().__init__()\n",
    "        head_dim = hidden_size // num_heads\n",
    "\n",
    "        # Weight matrices for queries, keys, values\n",
    "        self.W_q = nn.Parameter(torch.randn(num_heads, hidden_size, head_dim))\n",
    "        self.W_k = nn.Parameter(torch.randn(num_heads, hidden_size, head_dim))\n",
    "        self.W_v = nn.Parameter(torch.randn(num_heads, hidden_size, head_dim))\n",
    "\n",
    "        self.hidden_size = hidden_size\n",
    "        self.head_dim = head_dim\n",
    "        self.num_heads = num_heads\n",
    "\n",
    "        # Output linear projection\n",
    "        self.output_proj = nn.Parameter(torch.randn(hidden_size, hidden_size))\n",
    "\n",
    "    def forward(self, X, padding_mask):\n",
    "        \"\"\"\n",
    "        Forward pass for multi-head attention.\n",
    "\n",
    "        Inputs:\n",
    "            X            : (batch_size, seq_len, hidden_size)\n",
    "            padding_mask : (batch_size, seq_len)  -> 1 for real tokens, 0 for padding\n",
    "        \"\"\"\n",
    "        seq_len = padding_mask.shape[-1]\n",
    "\n",
    "        # Create attention mask\n",
    "        mask_matrix = padding_mask.unsqueeze(-1) * padding_mask.unsqueeze(-2)  # (batch, seq_len, seq_len)\n",
    "        attention_mask = mask_matrix.unsqueeze(1).expand(-1, self.num_heads, -1, -1)\n",
    "        attention_mask = torch.where(attention_mask == 1, 0.0, -float('inf'))\n",
    "\n",
    "        # Add head dimension to input\n",
    "        X_heads = X.unsqueeze(1)  # (batch, 1, seq_len, hidden_size)\n",
    "\n",
    "        # Compute Q, K, V\n",
    "        Q = torch.matmul(X_heads, self.W_q)\n",
    "        K = torch.matmul(X_heads, self.W_k)\n",
    "        V = torch.matmul(X_heads, self.W_v)\n",
    "\n",
    "        # Compute attention scores\n",
    "        K_transposed = K.transpose(-2, -1)\n",
    "        scores = torch.matmul(Q, K_transposed)\n",
    "        scaled_scores = scores / (self.head_dim ** 0.5)\n",
    "\n",
    "        # Apply mask and softmax\n",
    "        masked_scores = scaled_scores + attention_mask\n",
    "        att_weights = torch.softmax(masked_scores, dim=-1)\n",
    "\n",
    "        # Compute attention output\n",
    "        att_output = torch.matmul(att_weights, V).reshape(-1, seq_len, self.num_heads * self.head_dim)\n",
    "\n",
    "        # Final linear projection\n",
    "        projected_output = torch.matmul(att_output, self.output_proj)\n",
    "\n",
    "        return projected_output\n",
    "\n",
    "    \n",
    "\n",
    "class Transformer(nn.Module):\n",
    "    def __init__(self, voc_size, embed_size, num_heads, depth):\n",
    "        super().__init__()\n",
    "        self.embed = nn.Embedding(voc_size, embed_size)\n",
    "        \n",
    "\n",
    "    def forward():\n",
    "        pass"
   ]
  },
  {
   "cell_type": "code",
   "execution_count": 125,
   "id": "107fc4b3",
   "metadata": {},
   "outputs": [
    {
     "name": "stdout",
     "output_type": "stream",
     "text": [
      "Shape of X: torch.Size([2, 5, 32])\n",
      "torch.Size([2, 5, 32])\n"
     ]
    }
   ],
   "source": [
    "# Example dimensions\n",
    "batch_size = 2    # number of sequences\n",
    "seq_len = 5       # tokens per sequence\n",
    "hidden_size = 32   # embedding dimension\n",
    "h = 8 # number of heads\n",
    "head = MultiAttentionHead(h, hidden_size)\n",
    "\n",
    "# Create random input\n",
    "X = torch.randn(batch_size, seq_len, hidden_size)\n",
    "att_mask = torch.randint(0, 2, (batch_size, seq_len))\n",
    "output = head(X, att_mask)\n",
    "\n",
    "\n",
    "\n",
    "print(\"Shape of X:\", X.shape)\n",
    "print(output.shape)"
   ]
  },
  {
   "cell_type": "code",
   "execution_count": null,
   "id": "2ca8946e",
   "metadata": {},
   "outputs": [],
   "source": []
  }
 ],
 "metadata": {
  "kernelspec": {
   "display_name": "my_env",
   "language": "python",
   "name": "python3"
  },
  "language_info": {
   "codemirror_mode": {
    "name": "ipython",
    "version": 3
   },
   "file_extension": ".py",
   "mimetype": "text/x-python",
   "name": "python",
   "nbconvert_exporter": "python",
   "pygments_lexer": "ipython3",
   "version": "3.11.9"
  }
 },
 "nbformat": 4,
 "nbformat_minor": 5
}
